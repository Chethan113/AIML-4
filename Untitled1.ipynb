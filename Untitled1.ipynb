{
  "nbformat": 4,
  "nbformat_minor": 0,
  "metadata": {
    "colab": {
      "provenance": [],
      "authorship_tag": "ABX9TyP3MQZTQairACtRYY3gs621",
      "include_colab_link": true
    },
    "kernelspec": {
      "name": "python3",
      "display_name": "Python 3"
    },
    "language_info": {
      "name": "python"
    }
  },
  "cells": [
    {
      "cell_type": "markdown",
      "metadata": {
        "id": "view-in-github",
        "colab_type": "text"
      },
      "source": [
        "<a href=\"https://colab.research.google.com/github/Chethan113/AIML-4/blob/main/Untitled1.ipynb\" target=\"_parent\"><img src=\"https://colab.research.google.com/assets/colab-badge.svg\" alt=\"Open In Colab\"/></a>"
      ]
    },
    {
      "cell_type": "code",
      "execution_count": null,
      "metadata": {
        "id": "C37TeKELW9C6"
      },
      "outputs": [],
      "source": [
        "# Create lists\n",
        "list1 = [1, 2, 3]\n",
        "list2 = [4, 5, 6]\n",
        "\n",
        "# Create arrays\n",
        "arr1 = np.array(list1)\n",
        "arr2 = np.array(list2)\n",
        "\n",
        "# Identify their type using type()\n",
        "print(type(list1))\n",
        "print(type(arr1))\n",
        "\n",
        "# Perform mathematical operations on these datasets created - multiplication, division, power\n",
        "arr3 = arr1 * arr2 # multiplication\n",
        "arr4 = arr1 / arr2 # division\n",
        "arr5 = arr1 ** 2 # power\n",
        "\n",
        "# Combine text with NumPy function to generate a textual output\n",
        "print(\"Addition of Two Arrays: \", arr1 + arr2)\n",
        "\n",
        "# Implement np.sin(), log(), log2(), np.exp()\n",
        "arr6 = np.sin(arr1)\n",
        "arr7 = np.log(arr1)\n",
        "arr8 = np.log2(arr1)\n",
        "arr9 = np.exp(arr1)"
      ]
    }
  ]
}